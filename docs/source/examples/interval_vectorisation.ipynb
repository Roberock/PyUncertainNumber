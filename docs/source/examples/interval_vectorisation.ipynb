{
 "cells": [
  {
   "cell_type": "code",
   "execution_count": 1,
   "id": "359cb413-89e8-4b1b-80fa-651c5a33e8f2",
   "metadata": {},
   "outputs": [],
   "source": [
    "%load_ext autoreload\n",
    "%autoreload 2\n",
    "%load_ext rich\n",
    "from pyuncertainnumber import pba\n",
    "import numpy as np\n",
    "from rich import print"
   ]
  },
  {
   "cell_type": "markdown",
   "id": "69266361-7cfb-483f-aad3-4d99545c3027",
   "metadata": {
    "jp-MarkdownHeadingCollapsed": true
   },
   "source": [
    "# scalar interval\n",
    "\n",
    "- it can be checked if a scalar interval using the property `scalar`"
   ]
  },
  {
   "cell_type": "code",
   "execution_count": null,
   "id": "d9f03bdc-b982-499c-9ce2-bc851b7df1fc",
   "metadata": {},
   "outputs": [],
   "source": [
    "x = pba.I(1,2)\n",
    "x"
   ]
  },
  {
   "cell_type": "code",
   "execution_count": null,
   "id": "4b1aec02-ed64-4f32-9ce8-0c2cd3a09f1e",
   "metadata": {},
   "outputs": [],
   "source": [
    "x.val"
   ]
  },
  {
   "cell_type": "code",
   "execution_count": null,
   "id": "cd34619d-880b-41a0-91f9-202bef0517b4",
   "metadata": {},
   "outputs": [],
   "source": [
    "x.to_numpy()"
   ]
  },
  {
   "cell_type": "code",
   "execution_count": null,
   "id": "08110266-f878-4ba9-81b9-2cdbfddd4502",
   "metadata": {},
   "outputs": [],
   "source": [
    "x.scalar"
   ]
  },
  {
   "cell_type": "code",
   "execution_count": null,
   "id": "177c9a96-0630-4da8-ac36-e18a61f811e6",
   "metadata": {},
   "outputs": [],
   "source": [
    "x.shape"
   ]
  },
  {
   "cell_type": "code",
   "execution_count": null,
   "id": "78a3b713-ddb2-4ba6-8966-971e4a69e602",
   "metadata": {},
   "outputs": [],
   "source": [
    "len(x)"
   ]
  },
  {
   "cell_type": "code",
   "execution_count": null,
   "id": "81ef4f89-96da-4431-ba46-6eb7169ea2fb",
   "metadata": {},
   "outputs": [],
   "source": [
    "x.ndim"
   ]
  },
  {
   "cell_type": "code",
   "execution_count": null,
   "id": "83a8af1b-4e89-4f93-b0f6-3621194c1b44",
   "metadata": {},
   "outputs": [],
   "source": [
    "x_ = pba.I([1], [2])"
   ]
  },
  {
   "cell_type": "code",
   "execution_count": null,
   "id": "cea090d5-a16d-416f-ba56-a1620f1ad818",
   "metadata": {},
   "outputs": [],
   "source": [
    "x_"
   ]
  },
  {
   "cell_type": "code",
   "execution_count": null,
   "id": "2d2abab3-b1fc-4f78-8095-313db0dbcfe8",
   "metadata": {},
   "outputs": [],
   "source": [
    "x_.unsized"
   ]
  },
  {
   "cell_type": "code",
   "execution_count": null,
   "id": "4aec7106-96b3-435e-911b-d38d57a7691a",
   "metadata": {},
   "outputs": [],
   "source": [
    "x_.shape"
   ]
  },
  {
   "cell_type": "code",
   "execution_count": null,
   "id": "9be52219-c661-45d8-b8b0-ec4196629144",
   "metadata": {},
   "outputs": [],
   "source": [
    "x_.ndim"
   ]
  },
  {
   "cell_type": "code",
   "execution_count": null,
   "id": "a385ab87-aad6-4bfa-b524-c631c0767c39",
   "metadata": {},
   "outputs": [],
   "source": [
    "x_.shape"
   ]
  },
  {
   "cell_type": "markdown",
   "id": "8a64ef7b-1519-403d-b6df-6f4dd26ee057",
   "metadata": {},
   "source": [
    "# array-like intervals"
   ]
  },
  {
   "cell_type": "markdown",
   "id": "6a4763b3-46a6-4844-be7c-f3fefcc08276",
   "metadata": {},
   "source": [
    "## vector interval"
   ]
  },
  {
   "cell_type": "code",
   "execution_count": 2,
   "id": "276e37b1-aedf-4f8f-b3ec-5bb04cb735ac",
   "metadata": {},
   "outputs": [
    {
     "data": {
      "text/html": [
       "<pre style=\"white-space:pre;overflow-x:auto;line-height:normal;font-family:Menlo,'DejaVu Sans Mono',consolas,'Courier New',monospace\"></pre>\n"
      ],
      "text/plain": []
     },
     "metadata": {},
     "output_type": "display_data"
    },
    {
     "data": {
      "text/plain": [
       "\n",
       "\u001b[1m[\u001b[0m\u001b[1;36m1.0\u001b[0m,\u001b[1;36m2.0\u001b[0m\u001b[1m]\u001b[0m\n",
       "\u001b[1m[\u001b[0m\u001b[1;36m2.0\u001b[0m,\u001b[1;36m3.0\u001b[0m\u001b[1m]\u001b[0m\n",
       "\u001b[1m[\u001b[0m\u001b[1;36m3.0\u001b[0m,\u001b[1;36m4.0\u001b[0m\u001b[1m]\u001b[0m\n",
       "\u001b[1m[\u001b[0m\u001b[1;36m4.0\u001b[0m,\u001b[1;36m5.0\u001b[0m\u001b[1m]\u001b[0m"
      ]
     },
     "execution_count": 2,
     "metadata": {},
     "output_type": "execute_result"
    }
   ],
   "source": [
    "x = pba.I(lo=[1,2,3,4],hi=[2,3,4,5])\n",
    "x"
   ]
  },
  {
   "cell_type": "code",
   "execution_count": 3,
   "id": "cfb7b4b1-342e-48a0-b70e-56603dd06844",
   "metadata": {},
   "outputs": [
    {
     "data": {
      "text/html": [
       "<pre style=\"white-space:pre;overflow-x:auto;line-height:normal;font-family:Menlo,'DejaVu Sans Mono',consolas,'Courier New',monospace\"></pre>\n"
      ],
      "text/plain": []
     },
     "metadata": {},
     "output_type": "display_data"
    },
    {
     "data": {
      "text/plain": [
       "\u001b[1m(\u001b[0m\u001b[1;36m4\u001b[0m,\u001b[1m)\u001b[0m"
      ]
     },
     "execution_count": 3,
     "metadata": {},
     "output_type": "execute_result"
    }
   ],
   "source": [
    "x.shape"
   ]
  },
  {
   "cell_type": "code",
   "execution_count": 4,
   "id": "a570fee0-85ca-415c-a74a-f12126e37df9",
   "metadata": {},
   "outputs": [
    {
     "data": {
      "text/html": [
       "<pre style=\"white-space:pre;overflow-x:auto;line-height:normal;font-family:Menlo,'DejaVu Sans Mono',consolas,'Courier New',monospace\"></pre>\n"
      ],
      "text/plain": []
     },
     "metadata": {},
     "output_type": "display_data"
    },
    {
     "data": {
      "text/plain": [
       "\u001b[1;36m1\u001b[0m"
      ]
     },
     "execution_count": 4,
     "metadata": {},
     "output_type": "execute_result"
    }
   ],
   "source": [
    "x.ndim"
   ]
  },
  {
   "cell_type": "code",
   "execution_count": 5,
   "id": "4be2bb9b-0d69-4520-ba0b-e48f3f4290cb",
   "metadata": {},
   "outputs": [
    {
     "data": {
      "text/html": [
       "<pre style=\"white-space:pre;overflow-x:auto;line-height:normal;font-family:Menlo,'DejaVu Sans Mono',consolas,'Courier New',monospace\"></pre>\n"
      ],
      "text/plain": []
     },
     "metadata": {},
     "output_type": "display_data"
    },
    {
     "data": {
      "text/plain": [
       "\u001b[3;91mFalse\u001b[0m"
      ]
     },
     "execution_count": 5,
     "metadata": {},
     "output_type": "execute_result"
    }
   ],
   "source": [
    "x.scalar"
   ]
  },
  {
   "cell_type": "code",
   "execution_count": 6,
   "id": "972f56ea-c6c2-4a7c-b083-1eb752717aa6",
   "metadata": {},
   "outputs": [
    {
     "data": {
      "text/html": [
       "<pre style=\"white-space:pre;overflow-x:auto;line-height:normal;font-family:Menlo,'DejaVu Sans Mono',consolas,'Courier New',monospace\">element: <span style=\"font-weight: bold\">[</span><span style=\"color: #008080; text-decoration-color: #008080; font-weight: bold\">1.0</span>,<span style=\"color: #008080; text-decoration-color: #008080; font-weight: bold\">2.0</span><span style=\"font-weight: bold\">]</span>\n",
       "</pre>\n"
      ],
      "text/plain": [
       "element: \u001b[1m[\u001b[0m\u001b[1;36m1.0\u001b[0m,\u001b[1;36m2.0\u001b[0m\u001b[1m]\u001b[0m\n"
      ]
     },
     "metadata": {},
     "output_type": "display_data"
    },
    {
     "data": {
      "text/html": [
       "<pre style=\"white-space:pre;overflow-x:auto;line-height:normal;font-family:Menlo,'DejaVu Sans Mono',consolas,'Courier New',monospace\">element: <span style=\"font-weight: bold\">[</span><span style=\"color: #008080; text-decoration-color: #008080; font-weight: bold\">2.0</span>,<span style=\"color: #008080; text-decoration-color: #008080; font-weight: bold\">3.0</span><span style=\"font-weight: bold\">]</span>\n",
       "</pre>\n"
      ],
      "text/plain": [
       "element: \u001b[1m[\u001b[0m\u001b[1;36m2.0\u001b[0m,\u001b[1;36m3.0\u001b[0m\u001b[1m]\u001b[0m\n"
      ]
     },
     "metadata": {},
     "output_type": "display_data"
    },
    {
     "data": {
      "text/html": [
       "<pre style=\"white-space:pre;overflow-x:auto;line-height:normal;font-family:Menlo,'DejaVu Sans Mono',consolas,'Courier New',monospace\">element: <span style=\"font-weight: bold\">[</span><span style=\"color: #008080; text-decoration-color: #008080; font-weight: bold\">3.0</span>,<span style=\"color: #008080; text-decoration-color: #008080; font-weight: bold\">4.0</span><span style=\"font-weight: bold\">]</span>\n",
       "</pre>\n"
      ],
      "text/plain": [
       "element: \u001b[1m[\u001b[0m\u001b[1;36m3.0\u001b[0m,\u001b[1;36m4.0\u001b[0m\u001b[1m]\u001b[0m\n"
      ]
     },
     "metadata": {},
     "output_type": "display_data"
    },
    {
     "data": {
      "text/html": [
       "<pre style=\"white-space:pre;overflow-x:auto;line-height:normal;font-family:Menlo,'DejaVu Sans Mono',consolas,'Courier New',monospace\">element: <span style=\"font-weight: bold\">[</span><span style=\"color: #008080; text-decoration-color: #008080; font-weight: bold\">4.0</span>,<span style=\"color: #008080; text-decoration-color: #008080; font-weight: bold\">5.0</span><span style=\"font-weight: bold\">]</span>\n",
       "</pre>\n"
      ],
      "text/plain": [
       "element: \u001b[1m[\u001b[0m\u001b[1;36m4.0\u001b[0m,\u001b[1;36m5.0\u001b[0m\u001b[1m]\u001b[0m\n"
      ]
     },
     "metadata": {},
     "output_type": "display_data"
    }
   ],
   "source": [
    "# vec-interval being iterable\n",
    "for i in x:\n",
    "    print(f\"element: {i}\")"
   ]
  },
  {
   "cell_type": "code",
   "execution_count": 7,
   "id": "4f523530-131e-495a-999d-10a78c813ba7",
   "metadata": {},
   "outputs": [],
   "source": [
    "# intervalise\n",
    "\n",
    "# say I have a list of list"
   ]
  },
  {
   "cell_type": "code",
   "execution_count": 8,
   "id": "2b088d31-416d-4c59-847e-c68f6a5125d3",
   "metadata": {},
   "outputs": [
    {
     "data": {
      "text/html": [
       "<pre style=\"white-space:pre;overflow-x:auto;line-height:normal;font-family:Menlo,'DejaVu Sans Mono',consolas,'Courier New',monospace\"></pre>\n"
      ],
      "text/plain": []
     },
     "metadata": {},
     "output_type": "display_data"
    },
    {
     "data": {
      "text/plain": [
       "\n",
       "\u001b[1;35marray\u001b[0m\u001b[1m(\u001b[0m\u001b[1m[\u001b[0m\u001b[1m[\u001b[0m\u001b[1;36m1\u001b[0m., \u001b[1;36m2\u001b[0m.\u001b[1m]\u001b[0m,\n",
       "       \u001b[1m[\u001b[0m\u001b[1;36m2\u001b[0m., \u001b[1;36m3\u001b[0m.\u001b[1m]\u001b[0m,\n",
       "       \u001b[1m[\u001b[0m\u001b[1;36m3\u001b[0m., \u001b[1;36m4\u001b[0m.\u001b[1m]\u001b[0m,\n",
       "       \u001b[1m[\u001b[0m\u001b[1;36m4\u001b[0m., \u001b[1;36m5\u001b[0m.\u001b[1m]\u001b[0m\u001b[1m]\u001b[0m\u001b[1m)\u001b[0m"
      ]
     },
     "execution_count": 8,
     "metadata": {},
     "output_type": "execute_result"
    }
   ],
   "source": [
    "x.to_numpy()"
   ]
  },
  {
   "cell_type": "code",
   "execution_count": 9,
   "id": "b814a08a-5de7-4f47-93ed-3729ee2ab43e",
   "metadata": {},
   "outputs": [
    {
     "data": {
      "text/html": [
       "<pre style=\"white-space:pre;overflow-x:auto;line-height:normal;font-family:Menlo,'DejaVu Sans Mono',consolas,'Courier New',monospace\"></pre>\n"
      ],
      "text/plain": []
     },
     "metadata": {},
     "output_type": "display_data"
    },
    {
     "data": {
      "text/plain": [
       "\n",
       "\u001b[1;35marray\u001b[0m\u001b[1m(\u001b[0m\u001b[1m[\u001b[0m\u001b[1m[\u001b[0m\u001b[1;36m1\u001b[0m., \u001b[1;36m2\u001b[0m.\u001b[1m]\u001b[0m,\n",
       "       \u001b[1m[\u001b[0m\u001b[1;36m2\u001b[0m., \u001b[1;36m3\u001b[0m.\u001b[1m]\u001b[0m,\n",
       "       \u001b[1m[\u001b[0m\u001b[1;36m3\u001b[0m., \u001b[1;36m4\u001b[0m.\u001b[1m]\u001b[0m,\n",
       "       \u001b[1m[\u001b[0m\u001b[1;36m4\u001b[0m., \u001b[1;36m5\u001b[0m.\u001b[1m]\u001b[0m\u001b[1m]\u001b[0m\u001b[1m)\u001b[0m"
      ]
     },
     "execution_count": 9,
     "metadata": {},
     "output_type": "execute_result"
    }
   ],
   "source": [
    "arr = x.val\n",
    "arr"
   ]
  },
  {
   "cell_type": "code",
   "execution_count": 10,
   "id": "35ba098b-d47f-4c43-8d76-37f59160a75d",
   "metadata": {},
   "outputs": [
    {
     "data": {
      "text/html": [
       "<pre style=\"white-space:pre;overflow-x:auto;line-height:normal;font-family:Menlo,'DejaVu Sans Mono',consolas,'Courier New',monospace\"></pre>\n"
      ],
      "text/plain": []
     },
     "metadata": {},
     "output_type": "display_data"
    },
    {
     "data": {
      "text/plain": [
       "\u001b[1m[\u001b[0m\u001b[1;35marray\u001b[0m\u001b[1m(\u001b[0m\u001b[1m[\u001b[0m\u001b[1;36m1\u001b[0m., \u001b[1;36m2\u001b[0m.\u001b[1m]\u001b[0m\u001b[1m)\u001b[0m, \u001b[1;35marray\u001b[0m\u001b[1m(\u001b[0m\u001b[1m[\u001b[0m\u001b[1;36m2\u001b[0m., \u001b[1;36m3\u001b[0m.\u001b[1m]\u001b[0m\u001b[1m)\u001b[0m, \u001b[1;35marray\u001b[0m\u001b[1m(\u001b[0m\u001b[1m[\u001b[0m\u001b[1;36m3\u001b[0m., \u001b[1;36m4\u001b[0m.\u001b[1m]\u001b[0m\u001b[1m)\u001b[0m, \u001b[1;35marray\u001b[0m\u001b[1m(\u001b[0m\u001b[1m[\u001b[0m\u001b[1;36m4\u001b[0m., \u001b[1;36m5\u001b[0m.\u001b[1m]\u001b[0m\u001b[1m)\u001b[0m\u001b[1m]\u001b[0m"
      ]
     },
     "execution_count": 10,
     "metadata": {},
     "output_type": "execute_result"
    }
   ],
   "source": [
    "list(arr)"
   ]
  },
  {
   "cell_type": "code",
   "execution_count": 11,
   "id": "f6a2899d-7c55-4096-ad2a-7c39946bd28e",
   "metadata": {},
   "outputs": [
    {
     "data": {
      "text/html": [
       "<pre style=\"white-space:pre;overflow-x:auto;line-height:normal;font-family:Menlo,'DejaVu Sans Mono',consolas,'Courier New',monospace\"></pre>\n"
      ],
      "text/plain": []
     },
     "metadata": {},
     "output_type": "display_data"
    },
    {
     "data": {
      "text/plain": [
       "\u001b[1m(\u001b[0m\u001b[1;36m4\u001b[0m, \u001b[1;36m2\u001b[0m\u001b[1m)\u001b[0m"
      ]
     },
     "execution_count": 11,
     "metadata": {},
     "output_type": "execute_result"
    }
   ],
   "source": [
    "arr.shape"
   ]
  },
  {
   "cell_type": "code",
   "execution_count": 12,
   "id": "7ecfc047-7c02-408e-b919-59860d0f5465",
   "metadata": {},
   "outputs": [
    {
     "data": {
      "text/html": [
       "<pre style=\"white-space:pre;overflow-x:auto;line-height:normal;font-family:Menlo,'DejaVu Sans Mono',consolas,'Courier New',monospace\"></pre>\n"
      ],
      "text/plain": []
     },
     "metadata": {},
     "output_type": "display_data"
    },
    {
     "data": {
      "text/plain": [
       "\n",
       "\u001b[1m[\u001b[0m\u001b[1;36m1.0\u001b[0m,\u001b[1;36m2.0\u001b[0m\u001b[1m]\u001b[0m\n",
       "\u001b[1m[\u001b[0m\u001b[1;36m2.0\u001b[0m,\u001b[1;36m3.0\u001b[0m\u001b[1m]\u001b[0m\n",
       "\u001b[1m[\u001b[0m\u001b[1;36m3.0\u001b[0m,\u001b[1;36m4.0\u001b[0m\u001b[1m]\u001b[0m\n",
       "\u001b[1m[\u001b[0m\u001b[1;36m4.0\u001b[0m,\u001b[1;36m5.0\u001b[0m\u001b[1m]\u001b[0m"
      ]
     },
     "execution_count": 12,
     "metadata": {},
     "output_type": "execute_result"
    }
   ],
   "source": [
    "new_x = pba.intervalise(arr)\n",
    "new_x"
   ]
  },
  {
   "cell_type": "code",
   "execution_count": 13,
   "id": "14baf629-daef-45d5-9d4b-28465ce495b3",
   "metadata": {},
   "outputs": [],
   "source": [
    "# list\n",
    "list_arr = [[1., 2.], \n",
    " [2., 3.], \n",
    " [3., 4.], \n",
    " [4., 5.]\n",
    "]"
   ]
  },
  {
   "cell_type": "code",
   "execution_count": 14,
   "id": "fd85e5a3-f254-4228-91b7-7f03e9f5c692",
   "metadata": {},
   "outputs": [
    {
     "data": {
      "text/html": [
       "<pre style=\"white-space:pre;overflow-x:auto;line-height:normal;font-family:Menlo,'DejaVu Sans Mono',consolas,'Courier New',monospace\"></pre>\n"
      ],
      "text/plain": []
     },
     "metadata": {},
     "output_type": "display_data"
    },
    {
     "data": {
      "text/plain": [
       "\u001b[1m[\u001b[0m\u001b[1m[\u001b[0m\u001b[1;36m1.0\u001b[0m, \u001b[1;36m2.0\u001b[0m\u001b[1m]\u001b[0m, \u001b[1m[\u001b[0m\u001b[1;36m2.0\u001b[0m, \u001b[1;36m3.0\u001b[0m\u001b[1m]\u001b[0m, \u001b[1m[\u001b[0m\u001b[1;36m3.0\u001b[0m, \u001b[1;36m4.0\u001b[0m\u001b[1m]\u001b[0m, \u001b[1m[\u001b[0m\u001b[1;36m4.0\u001b[0m, \u001b[1;36m5.0\u001b[0m\u001b[1m]\u001b[0m\u001b[1m]\u001b[0m"
      ]
     },
     "execution_count": 14,
     "metadata": {},
     "output_type": "execute_result"
    }
   ],
   "source": [
    "list_arr"
   ]
  },
  {
   "cell_type": "code",
   "execution_count": 15,
   "id": "b758d40d-8646-40ce-9534-1c1248c9b429",
   "metadata": {},
   "outputs": [
    {
     "data": {
      "text/html": [
       "<pre style=\"white-space:pre;overflow-x:auto;line-height:normal;font-family:Menlo,'DejaVu Sans Mono',consolas,'Courier New',monospace\"></pre>\n"
      ],
      "text/plain": []
     },
     "metadata": {},
     "output_type": "display_data"
    },
    {
     "data": {
      "text/plain": [
       "\n",
       "\u001b[1m[\u001b[0m\u001b[1;36m1.0\u001b[0m,\u001b[1;36m2.0\u001b[0m\u001b[1m]\u001b[0m\n",
       "\u001b[1m[\u001b[0m\u001b[1;36m2.0\u001b[0m,\u001b[1;36m3.0\u001b[0m\u001b[1m]\u001b[0m\n",
       "\u001b[1m[\u001b[0m\u001b[1;36m3.0\u001b[0m,\u001b[1;36m4.0\u001b[0m\u001b[1m]\u001b[0m\n",
       "\u001b[1m[\u001b[0m\u001b[1;36m4.0\u001b[0m,\u001b[1;36m5.0\u001b[0m\u001b[1m]\u001b[0m"
      ]
     },
     "execution_count": 15,
     "metadata": {},
     "output_type": "execute_result"
    }
   ],
   "source": [
    "pba.intervalise(list_arr)"
   ]
  },
  {
   "cell_type": "code",
   "execution_count": 16,
   "id": "92c95c57-721e-45c9-be0f-bc68fee1c856",
   "metadata": {},
   "outputs": [
    {
     "data": {
      "text/html": [
       "<pre style=\"white-space:pre;overflow-x:auto;line-height:normal;font-family:Menlo,'DejaVu Sans Mono',consolas,'Courier New',monospace\"></pre>\n"
      ],
      "text/plain": []
     },
     "metadata": {},
     "output_type": "display_data"
    },
    {
     "data": {
      "text/plain": [
       "\u001b[1m[\u001b[0m\u001b[1;36m4.0\u001b[0m, \u001b[1;36m5.0\u001b[0m\u001b[1m]\u001b[0m"
      ]
     },
     "execution_count": 16,
     "metadata": {},
     "output_type": "execute_result"
    }
   ],
   "source": [
    "list_arr[3]"
   ]
  },
  {
   "cell_type": "markdown",
   "id": "cb9de3f5-1217-4dfb-ab3a-14ad7ddc1d91",
   "metadata": {},
   "source": [
    "#### **split intervals** (novel) acomplished"
   ]
  },
  {
   "cell_type": "code",
   "execution_count": 17,
   "id": "c64a609b-dd7f-42c9-b326-06587723acd7",
   "metadata": {},
   "outputs": [
    {
     "data": {
      "text/html": [
       "<pre style=\"white-space:pre;overflow-x:auto;line-height:normal;font-family:Menlo,'DejaVu Sans Mono',consolas,'Courier New',monospace\"></pre>\n"
      ],
      "text/plain": []
     },
     "metadata": {},
     "output_type": "display_data"
    },
    {
     "data": {
      "text/plain": [
       "\u001b[1m[\u001b[0m\u001b[1m[\u001b[0m\u001b[1;36m1.0\u001b[0m,\u001b[1;36m2.0\u001b[0m\u001b[1m]\u001b[0m, \u001b[1m[\u001b[0m\u001b[1;36m2.0\u001b[0m,\u001b[1;36m3.0\u001b[0m\u001b[1m]\u001b[0m, \u001b[1m[\u001b[0m\u001b[1;36m3.0\u001b[0m,\u001b[1;36m4.0\u001b[0m\u001b[1m]\u001b[0m, \u001b[1m[\u001b[0m\u001b[1;36m4.0\u001b[0m,\u001b[1;36m5.0\u001b[0m\u001b[1m]\u001b[0m\u001b[1m]\u001b[0m"
      ]
     },
     "execution_count": 17,
     "metadata": {},
     "output_type": "execute_result"
    }
   ],
   "source": [
    "list_of_scalar_intervals = [pba.intervalise(item) for item in list_arr]\n",
    "list_of_scalar_intervals"
   ]
  },
  {
   "cell_type": "code",
   "execution_count": 18,
   "id": "0c7330ee-2257-4729-b411-a217d6a2e252",
   "metadata": {},
   "outputs": [],
   "source": [
    "v = pba.intervalise(list_of_scalar_intervals)"
   ]
  },
  {
   "cell_type": "code",
   "execution_count": 19,
   "id": "6e3c6932-4883-43f5-bfeb-87ad66b2434b",
   "metadata": {},
   "outputs": [
    {
     "data": {
      "text/html": [
       "<pre style=\"white-space:pre;overflow-x:auto;line-height:normal;font-family:Menlo,'DejaVu Sans Mono',consolas,'Courier New',monospace\"></pre>\n"
      ],
      "text/plain": []
     },
     "metadata": {},
     "output_type": "display_data"
    },
    {
     "data": {
      "text/plain": [
       "\u001b[1m(\u001b[0m\u001b[1;36m4\u001b[0m,\u001b[1m)\u001b[0m"
      ]
     },
     "execution_count": 19,
     "metadata": {},
     "output_type": "execute_result"
    }
   ],
   "source": [
    "v.shape"
   ]
  },
  {
   "cell_type": "code",
   "execution_count": 20,
   "id": "e25121d8-3898-44ff-982b-d0e833cd7e32",
   "metadata": {},
   "outputs": [],
   "source": [
    "y = pba.I(1,2)"
   ]
  },
  {
   "cell_type": "code",
   "execution_count": 21,
   "id": "08fe749e-298b-4aae-8120-d743ff939799",
   "metadata": {},
   "outputs": [],
   "source": [
    "from pyuncertainnumber import make_vec_interval"
   ]
  },
  {
   "cell_type": "code",
   "execution_count": 22,
   "id": "b28f0b3e-07ae-4c15-b1f1-05535fbde216",
   "metadata": {},
   "outputs": [],
   "source": [
    "v2 = make_vec_interval(list_of_scalar_intervals)"
   ]
  },
  {
   "cell_type": "code",
   "execution_count": 23,
   "id": "4eba9b8c-3c32-48c2-bf9f-cd5b2b6803e1",
   "metadata": {},
   "outputs": [
    {
     "data": {
      "text/html": [
       "<pre style=\"white-space:pre;overflow-x:auto;line-height:normal;font-family:Menlo,'DejaVu Sans Mono',consolas,'Courier New',monospace\"></pre>\n"
      ],
      "text/plain": []
     },
     "metadata": {},
     "output_type": "display_data"
    },
    {
     "data": {
      "text/plain": [
       "\u001b[1m(\u001b[0m\u001b[1;36m4\u001b[0m,\u001b[1m)\u001b[0m"
      ]
     },
     "execution_count": 23,
     "metadata": {},
     "output_type": "execute_result"
    }
   ],
   "source": [
    "v2.shape"
   ]
  },
  {
   "cell_type": "code",
   "execution_count": 24,
   "id": "484c4a74-556f-4462-bb91-2e8b6ab8bcc2",
   "metadata": {},
   "outputs": [
    {
     "data": {
      "text/html": [
       "<pre style=\"white-space:pre;overflow-x:auto;line-height:normal;font-family:Menlo,'DejaVu Sans Mono',consolas,'Courier New',monospace\"></pre>\n"
      ],
      "text/plain": []
     },
     "metadata": {},
     "output_type": "display_data"
    },
    {
     "data": {
      "text/plain": [
       "\u001b[1;35marray\u001b[0m\u001b[1m(\u001b[0m\u001b[1m[\u001b[0m \u001b[3;92mTrue\u001b[0m,  \u001b[3;92mTrue\u001b[0m,  \u001b[3;92mTrue\u001b[0m,  \u001b[3;92mTrue\u001b[0m\u001b[1m]\u001b[0m\u001b[1m)\u001b[0m"
      ]
     },
     "execution_count": 24,
     "metadata": {},
     "output_type": "execute_result"
    }
   ],
   "source": [
    "v == v2"
   ]
  },
  {
   "cell_type": "code",
   "execution_count": 27,
   "id": "ced46573-6910-43b0-b66a-b715ac43afed",
   "metadata": {},
   "outputs": [],
   "source": [
    "from pyuncertainnumber.pba.intervals.methods import unpack"
   ]
  },
  {
   "cell_type": "code",
   "execution_count": null,
   "id": "f479bc0a-bdd4-489c-a465-72510791bbbf",
   "metadata": {},
   "outputs": [],
   "source": [
    "# successful\n",
    "l_v = unpack(v)"
   ]
  },
  {
   "cell_type": "markdown",
   "id": "d4352477-5d21-4519-b4e1-0f479ed16358",
   "metadata": {},
   "source": [
    "## matrix interval"
   ]
  },
  {
   "cell_type": "code",
   "execution_count": 32,
   "id": "d94320dd-04a3-42a7-8c63-3a0093677338",
   "metadata": {},
   "outputs": [],
   "source": [
    "a = [[[1,2], [2,3], [4,5]],\n",
    "      [[-1,2],[-2,1],[3,5]],\n",
    "      [[0,2], [3,4], [6,8]]]"
   ]
  },
  {
   "cell_type": "code",
   "execution_count": 34,
   "id": "30f2e979-0256-4987-b16b-3898bd6d1745",
   "metadata": {},
   "outputs": [
    {
     "data": {
      "text/html": [
       "<pre style=\"white-space:pre;overflow-x:auto;line-height:normal;font-family:Menlo,'DejaVu Sans Mono',consolas,'Courier New',monospace\"></pre>\n"
      ],
      "text/plain": []
     },
     "metadata": {},
     "output_type": "display_data"
    },
    {
     "data": {
      "text/plain": [
       "\n",
       "\u001b[1;35marray\u001b[0m\u001b[1m(\u001b[0m\u001b[1m[\u001b[0m\u001b[1m[\u001b[0m\u001b[1m[\u001b[0m \u001b[1;36m1\u001b[0m,  \u001b[1;36m2\u001b[0m\u001b[1m]\u001b[0m,\n",
       "        \u001b[1m[\u001b[0m \u001b[1;36m2\u001b[0m,  \u001b[1;36m3\u001b[0m\u001b[1m]\u001b[0m,\n",
       "        \u001b[1m[\u001b[0m \u001b[1;36m4\u001b[0m,  \u001b[1;36m5\u001b[0m\u001b[1m]\u001b[0m\u001b[1m]\u001b[0m,\n",
       "\n",
       "       \u001b[1m[\u001b[0m\u001b[1m[\u001b[0m\u001b[1;36m-1\u001b[0m,  \u001b[1;36m2\u001b[0m\u001b[1m]\u001b[0m,\n",
       "        \u001b[1m[\u001b[0m\u001b[1;36m-2\u001b[0m,  \u001b[1;36m1\u001b[0m\u001b[1m]\u001b[0m,\n",
       "        \u001b[1m[\u001b[0m \u001b[1;36m3\u001b[0m,  \u001b[1;36m5\u001b[0m\u001b[1m]\u001b[0m\u001b[1m]\u001b[0m,\n",
       "\n",
       "       \u001b[1m[\u001b[0m\u001b[1m[\u001b[0m \u001b[1;36m0\u001b[0m,  \u001b[1;36m2\u001b[0m\u001b[1m]\u001b[0m,\n",
       "        \u001b[1m[\u001b[0m \u001b[1;36m3\u001b[0m,  \u001b[1;36m4\u001b[0m\u001b[1m]\u001b[0m,\n",
       "        \u001b[1m[\u001b[0m \u001b[1;36m6\u001b[0m,  \u001b[1;36m8\u001b[0m\u001b[1m]\u001b[0m\u001b[1m]\u001b[0m\u001b[1m]\u001b[0m\u001b[1m)\u001b[0m"
      ]
     },
     "execution_count": 34,
     "metadata": {},
     "output_type": "execute_result"
    }
   ],
   "source": [
    "a = np.array(a)\n",
    "a"
   ]
  },
  {
   "cell_type": "code",
   "execution_count": 35,
   "id": "caeb90d1-311e-4629-83b7-299499ef9c9e",
   "metadata": {},
   "outputs": [
    {
     "data": {
      "text/html": [
       "<pre style=\"white-space:pre;overflow-x:auto;line-height:normal;font-family:Menlo,'DejaVu Sans Mono',consolas,'Courier New',monospace\"></pre>\n"
      ],
      "text/plain": []
     },
     "metadata": {},
     "output_type": "display_data"
    },
    {
     "data": {
      "text/plain": [
       "\u001b[1m(\u001b[0m\u001b[1;36m3\u001b[0m, \u001b[1;36m3\u001b[0m, \u001b[1;36m2\u001b[0m\u001b[1m)\u001b[0m"
      ]
     },
     "execution_count": 35,
     "metadata": {},
     "output_type": "execute_result"
    }
   ],
   "source": [
    "a.shape"
   ]
  },
  {
   "cell_type": "code",
   "execution_count": 36,
   "id": "87a88047-3dae-42bf-ada4-40e5b84c09d4",
   "metadata": {},
   "outputs": [],
   "source": [
    "a_i = pba.intervalise(a)"
   ]
  },
  {
   "cell_type": "code",
   "execution_count": 37,
   "id": "10b573a0-a4c9-4339-b396-a4ba2a45b437",
   "metadata": {},
   "outputs": [
    {
     "data": {
      "text/html": [
       "<pre style=\"white-space:pre;overflow-x:auto;line-height:normal;font-family:Menlo,'DejaVu Sans Mono',consolas,'Courier New',monospace\"></pre>\n"
      ],
      "text/plain": []
     },
     "metadata": {},
     "output_type": "display_data"
    },
    {
     "data": {
      "text/plain": [
       "\n",
       "\u001b[1m[\u001b[0m\u001b[1;36m1\u001b[0m. \u001b[1;36m2\u001b[0m.\u001b[1m]\u001b[0m \u001b[1m[\u001b[0m\u001b[1;36m2\u001b[0m. \u001b[1;36m3\u001b[0m.\u001b[1m]\u001b[0m \u001b[1m[\u001b[0m\u001b[1;36m4\u001b[0m. \u001b[1;36m5\u001b[0m.\u001b[1m]\u001b[0m\n",
       "\u001b[1m[\u001b[0m\u001b[1;36m-1\u001b[0m.  \u001b[1;36m2\u001b[0m.\u001b[1m]\u001b[0m \u001b[1m[\u001b[0m\u001b[1;36m-2\u001b[0m.  \u001b[1;36m1\u001b[0m.\u001b[1m]\u001b[0m \u001b[1m[\u001b[0m\u001b[1;36m3\u001b[0m. \u001b[1;36m5\u001b[0m.\u001b[1m]\u001b[0m\n",
       "\u001b[1m[\u001b[0m\u001b[1;36m0\u001b[0m. \u001b[1;36m2\u001b[0m.\u001b[1m]\u001b[0m \u001b[1m[\u001b[0m\u001b[1;36m3\u001b[0m. \u001b[1;36m4\u001b[0m.\u001b[1m]\u001b[0m \u001b[1m[\u001b[0m\u001b[1;36m6\u001b[0m. \u001b[1;36m8\u001b[0m.\u001b[1m]\u001b[0m"
      ]
     },
     "execution_count": 37,
     "metadata": {},
     "output_type": "execute_result"
    }
   ],
   "source": [
    "a_i"
   ]
  },
  {
   "cell_type": "code",
   "execution_count": 39,
   "id": "73911224-def1-4361-8db9-9bc675c6ac0a",
   "metadata": {},
   "outputs": [
    {
     "data": {
      "text/html": [
       "<pre style=\"white-space:pre;overflow-x:auto;line-height:normal;font-family:Menlo,'DejaVu Sans Mono',consolas,'Courier New',monospace\"></pre>\n"
      ],
      "text/plain": []
     },
     "metadata": {},
     "output_type": "display_data"
    },
    {
     "data": {
      "text/plain": [
       "\u001b[1m(\u001b[0m\u001b[1;36m3\u001b[0m, \u001b[1;36m3\u001b[0m\u001b[1m)\u001b[0m"
      ]
     },
     "execution_count": 39,
     "metadata": {},
     "output_type": "execute_result"
    }
   ],
   "source": [
    "a_i.shape"
   ]
  },
  {
   "cell_type": "code",
   "execution_count": 40,
   "id": "cd2430c4-6531-4aa3-8ea1-be19854ca0ae",
   "metadata": {},
   "outputs": [
    {
     "data": {
      "text/html": [
       "<pre style=\"white-space:pre;overflow-x:auto;line-height:normal;font-family:Menlo,'DejaVu Sans Mono',consolas,'Courier New',monospace\"></pre>\n"
      ],
      "text/plain": []
     },
     "metadata": {},
     "output_type": "display_data"
    },
    {
     "data": {
      "text/plain": [
       "\u001b[1;36m2\u001b[0m"
      ]
     },
     "execution_count": 40,
     "metadata": {},
     "output_type": "execute_result"
    }
   ],
   "source": [
    "a_i.ndim"
   ]
  },
  {
   "cell_type": "code",
   "execution_count": 42,
   "id": "a9f923ae-6c9b-459f-8719-cb3b3d3596f2",
   "metadata": {},
   "outputs": [],
   "source": [
    "# for item in a_i:\n",
    "#     print(item)"
   ]
  },
  {
   "cell_type": "code",
   "execution_count": 43,
   "id": "c9561499-4fe9-4340-86f6-448670324c6e",
   "metadata": {},
   "outputs": [
    {
     "data": {
      "text/html": [
       "<pre style=\"white-space:pre;overflow-x:auto;line-height:normal;font-family:Menlo,'DejaVu Sans Mono',consolas,'Courier New',monospace\"></pre>\n"
      ],
      "text/plain": []
     },
     "metadata": {},
     "output_type": "display_data"
    },
    {
     "data": {
      "text/plain": [
       "\u001b[1m[\u001b[0m\u001b[1m[\u001b[0m\u001b[1;36m1.0\u001b[0m,\u001b[1;36m2.0\u001b[0m\u001b[1m]\u001b[0m, \u001b[1m[\u001b[0m\u001b[1;36m2.0\u001b[0m,\u001b[1;36m3.0\u001b[0m\u001b[1m]\u001b[0m, \u001b[1m[\u001b[0m\u001b[1;36m4.0\u001b[0m,\u001b[1;36m5.0\u001b[0m\u001b[1m]\u001b[0m, \u001b[1m[\u001b[0m\u001b[1;36m-1.0\u001b[0m,\u001b[1;36m2.0\u001b[0m\u001b[1m]\u001b[0m, \u001b[1m[\u001b[0m\u001b[1;36m-2.0\u001b[0m,\u001b[1;36m1.0\u001b[0m\u001b[1m]\u001b[0m, \u001b[1m[\u001b[0m\u001b[1;36m3.0\u001b[0m,\u001b[1;36m5.0\u001b[0m\u001b[1m]\u001b[0m, \u001b[1m[\u001b[0m\u001b[1;36m0.0\u001b[0m,\u001b[1;36m2.0\u001b[0m\u001b[1m]\u001b[0m, \u001b[1m[\u001b[0m\u001b[1;36m3.0\u001b[0m,\u001b[1;36m4.0\u001b[0m\u001b[1m]\u001b[0m, \u001b[1m[\u001b[0m\u001b[1;36m6.0\u001b[0m,\u001b[1;36m8.0\u001b[0m\u001b[1m]\u001b[0m\u001b[1m]\u001b[0m"
      ]
     },
     "execution_count": 43,
     "metadata": {},
     "output_type": "execute_result"
    }
   ],
   "source": [
    "unpack(a_i)"
   ]
  },
  {
   "cell_type": "code",
   "execution_count": 44,
   "id": "2b80bddb-7fcf-4fcf-8d63-2dc6e24eb109",
   "metadata": {},
   "outputs": [
    {
     "data": {
      "text/html": [
       "<pre style=\"white-space:pre;overflow-x:auto;line-height:normal;font-family:Menlo,'DejaVu Sans Mono',consolas,'Courier New',monospace\"></pre>\n"
      ],
      "text/plain": []
     },
     "metadata": {},
     "output_type": "display_data"
    },
    {
     "data": {
      "text/plain": [
       "\n",
       "\u001b[1m[\u001b[0m\u001b[1;36m2\u001b[0m. \u001b[1;36m4\u001b[0m.\u001b[1m]\u001b[0m \u001b[1m[\u001b[0m\u001b[1;36m4\u001b[0m. \u001b[1;36m6\u001b[0m.\u001b[1m]\u001b[0m \u001b[1m[\u001b[0m \u001b[1;36m8\u001b[0m. \u001b[1;36m10\u001b[0m.\u001b[1m]\u001b[0m\n",
       "\u001b[1m[\u001b[0m\u001b[1;36m-2\u001b[0m.  \u001b[1;36m4\u001b[0m.\u001b[1m]\u001b[0m \u001b[1m[\u001b[0m\u001b[1;36m-4\u001b[0m.  \u001b[1;36m2\u001b[0m.\u001b[1m]\u001b[0m \u001b[1m[\u001b[0m \u001b[1;36m6\u001b[0m. \u001b[1;36m10\u001b[0m.\u001b[1m]\u001b[0m\n",
       "\u001b[1m[\u001b[0m\u001b[1;36m0\u001b[0m. \u001b[1;36m4\u001b[0m.\u001b[1m]\u001b[0m \u001b[1m[\u001b[0m\u001b[1;36m6\u001b[0m. \u001b[1;36m8\u001b[0m.\u001b[1m]\u001b[0m \u001b[1m[\u001b[0m\u001b[1;36m12\u001b[0m. \u001b[1;36m16\u001b[0m.\u001b[1m]\u001b[0m"
      ]
     },
     "execution_count": 44,
     "metadata": {},
     "output_type": "execute_result"
    }
   ],
   "source": [
    "a_i * 2"
   ]
  },
  {
   "cell_type": "code",
   "execution_count": 46,
   "id": "3e9b36b9-48d0-425b-94e8-1b8fb9e9fc98",
   "metadata": {},
   "outputs": [
    {
     "data": {
      "text/html": [
       "<pre style=\"white-space:pre;overflow-x:auto;line-height:normal;font-family:Menlo,'DejaVu Sans Mono',consolas,'Courier New',monospace\"></pre>\n"
      ],
      "text/plain": []
     },
     "metadata": {},
     "output_type": "display_data"
    },
    {
     "data": {
      "text/plain": [
       "\u001b[1m[\u001b[0m\u001b[1;36m4.0\u001b[0m,\u001b[1;36m5.0\u001b[0m\u001b[1m]\u001b[0m"
      ]
     },
     "execution_count": 46,
     "metadata": {},
     "output_type": "execute_result"
    }
   ],
   "source": [
    "a_i[0,2]"
   ]
  },
  {
   "cell_type": "code",
   "execution_count": 50,
   "id": "80dce5d3-e411-46b8-a22c-b6f79ada3624",
   "metadata": {},
   "outputs": [
    {
     "data": {
      "text/html": [
       "<pre style=\"white-space:pre;overflow-x:auto;line-height:normal;font-family:Menlo,'DejaVu Sans Mono',consolas,'Courier New',monospace\">each row: <span style=\"font-weight: bold\">[</span><span style=\"color: #008080; text-decoration-color: #008080; font-weight: bold\">1.0</span>,<span style=\"color: #008080; text-decoration-color: #008080; font-weight: bold\">2.0</span><span style=\"font-weight: bold\">]</span>\n",
       "<span style=\"font-weight: bold\">[</span><span style=\"color: #008080; text-decoration-color: #008080; font-weight: bold\">2.0</span>,<span style=\"color: #008080; text-decoration-color: #008080; font-weight: bold\">3.0</span><span style=\"font-weight: bold\">]</span>\n",
       "<span style=\"font-weight: bold\">[</span><span style=\"color: #008080; text-decoration-color: #008080; font-weight: bold\">4.0</span>,<span style=\"color: #008080; text-decoration-color: #008080; font-weight: bold\">5.0</span><span style=\"font-weight: bold\">]</span>\n",
       "</pre>\n"
      ],
      "text/plain": [
       "each row: \u001b[1m[\u001b[0m\u001b[1;36m1.0\u001b[0m,\u001b[1;36m2.0\u001b[0m\u001b[1m]\u001b[0m\n",
       "\u001b[1m[\u001b[0m\u001b[1;36m2.0\u001b[0m,\u001b[1;36m3.0\u001b[0m\u001b[1m]\u001b[0m\n",
       "\u001b[1m[\u001b[0m\u001b[1;36m4.0\u001b[0m,\u001b[1;36m5.0\u001b[0m\u001b[1m]\u001b[0m\n"
      ]
     },
     "metadata": {},
     "output_type": "display_data"
    },
    {
     "data": {
      "text/html": [
       "<pre style=\"white-space:pre;overflow-x:auto;line-height:normal;font-family:Menlo,'DejaVu Sans Mono',consolas,'Courier New',monospace\">each row: <span style=\"font-weight: bold\">[</span><span style=\"color: #008080; text-decoration-color: #008080; font-weight: bold\">-1.0</span>,<span style=\"color: #008080; text-decoration-color: #008080; font-weight: bold\">2.0</span><span style=\"font-weight: bold\">]</span>\n",
       "<span style=\"font-weight: bold\">[</span><span style=\"color: #008080; text-decoration-color: #008080; font-weight: bold\">-2.0</span>,<span style=\"color: #008080; text-decoration-color: #008080; font-weight: bold\">1.0</span><span style=\"font-weight: bold\">]</span>\n",
       "<span style=\"font-weight: bold\">[</span><span style=\"color: #008080; text-decoration-color: #008080; font-weight: bold\">3.0</span>,<span style=\"color: #008080; text-decoration-color: #008080; font-weight: bold\">5.0</span><span style=\"font-weight: bold\">]</span>\n",
       "</pre>\n"
      ],
      "text/plain": [
       "each row: \u001b[1m[\u001b[0m\u001b[1;36m-1.0\u001b[0m,\u001b[1;36m2.0\u001b[0m\u001b[1m]\u001b[0m\n",
       "\u001b[1m[\u001b[0m\u001b[1;36m-2.0\u001b[0m,\u001b[1;36m1.0\u001b[0m\u001b[1m]\u001b[0m\n",
       "\u001b[1m[\u001b[0m\u001b[1;36m3.0\u001b[0m,\u001b[1;36m5.0\u001b[0m\u001b[1m]\u001b[0m\n"
      ]
     },
     "metadata": {},
     "output_type": "display_data"
    },
    {
     "data": {
      "text/html": [
       "<pre style=\"white-space:pre;overflow-x:auto;line-height:normal;font-family:Menlo,'DejaVu Sans Mono',consolas,'Courier New',monospace\">each row: <span style=\"font-weight: bold\">[</span><span style=\"color: #008080; text-decoration-color: #008080; font-weight: bold\">0.0</span>,<span style=\"color: #008080; text-decoration-color: #008080; font-weight: bold\">2.0</span><span style=\"font-weight: bold\">]</span>\n",
       "<span style=\"font-weight: bold\">[</span><span style=\"color: #008080; text-decoration-color: #008080; font-weight: bold\">3.0</span>,<span style=\"color: #008080; text-decoration-color: #008080; font-weight: bold\">4.0</span><span style=\"font-weight: bold\">]</span>\n",
       "<span style=\"font-weight: bold\">[</span><span style=\"color: #008080; text-decoration-color: #008080; font-weight: bold\">6.0</span>,<span style=\"color: #008080; text-decoration-color: #008080; font-weight: bold\">8.0</span><span style=\"font-weight: bold\">]</span>\n",
       "</pre>\n"
      ],
      "text/plain": [
       "each row: \u001b[1m[\u001b[0m\u001b[1;36m0.0\u001b[0m,\u001b[1;36m2.0\u001b[0m\u001b[1m]\u001b[0m\n",
       "\u001b[1m[\u001b[0m\u001b[1;36m3.0\u001b[0m,\u001b[1;36m4.0\u001b[0m\u001b[1m]\u001b[0m\n",
       "\u001b[1m[\u001b[0m\u001b[1;36m6.0\u001b[0m,\u001b[1;36m8.0\u001b[0m\u001b[1m]\u001b[0m\n"
      ]
     },
     "metadata": {},
     "output_type": "display_data"
    }
   ],
   "source": [
    "# row-wise python looping\n",
    "n, d = a_i.shape\n",
    "\n",
    "for ind in np.arange(n):\n",
    "    print(f\"each row: {a_i[ind, :]}\")"
   ]
  },
  {
   "cell_type": "code",
   "execution_count": null,
   "id": "914af53e-9be5-4bce-8128-2ec2cdd5353d",
   "metadata": {},
   "outputs": [],
   "source": []
  }
 ],
 "metadata": {
  "kernelspec": {
   "display_name": "Python 3 (ipykernel)",
   "language": "python",
   "name": "python3"
  },
  "language_info": {
   "codemirror_mode": {
    "name": "ipython",
    "version": 3
   },
   "file_extension": ".py",
   "mimetype": "text/x-python",
   "name": "python",
   "nbconvert_exporter": "python",
   "pygments_lexer": "ipython3",
   "version": "3.11.10"
  }
 },
 "nbformat": 4,
 "nbformat_minor": 5
}
