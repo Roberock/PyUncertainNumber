{
 "cells": [
  {
   "cell_type": "markdown",
   "id": "fbfe85fc-1ca2-4aa3-984e-d9299a43340a",
   "metadata": {},
   "source": [
    "# introduction\n",
    "\n",
    "This file is demonstrating all the top-level apis of `pun`"
   ]
  },
  {
   "cell_type": "code",
   "execution_count": 1,
   "id": "4a482922-ac65-46f4-9602-4f0f1c09b111",
   "metadata": {},
   "outputs": [
    {
     "data": {
      "text/plain": [
       "' fit '"
      ]
     },
     "execution_count": 1,
     "metadata": {},
     "output_type": "execute_result"
    }
   ],
   "source": [
    "''' fit ''' "
   ]
  },
  {
   "cell_type": "code",
   "execution_count": 2,
   "id": "16b36a6d-982a-4935-b359-26a35dcc19b6",
   "metadata": {},
   "outputs": [],
   "source": [
    "import pyuncertainnumber as pun\n",
    "import numpy as np"
   ]
  },
  {
   "cell_type": "code",
   "execution_count": 7,
   "id": "1fbfb071-2465-4d8b-9b46-27bcad1316b6",
   "metadata": {},
   "outputs": [
    {
     "data": {
      "text/plain": [
       "UncertainNumber(essence='distribution', _construct=dist ~ norm(np.float64(-0.032040086256868446), np.float64(1.045222538435726)), naked_value=-0.032, physical_quantity=-0.032)"
      ]
     },
     "execution_count": 7,
     "metadata": {},
     "output_type": "execute_result"
    }
   ],
   "source": [
    "pun.fit('mle', 'normal', np.random.normal(0, 1, 100))"
   ]
  },
  {
   "cell_type": "code",
   "execution_count": null,
   "id": "9c1f742c-a3af-4cef-9e9b-1b0ec9f250ab",
   "metadata": {},
   "outputs": [],
   "source": [
    "''' hedge_interpret() '''"
   ]
  },
  {
   "cell_type": "code",
   "execution_count": null,
   "id": "57fb3744-a1ee-4b00-ab27-eeb1738ac016",
   "metadata": {},
   "outputs": [],
   "source": []
  }
 ],
 "metadata": {
  "kernelspec": {
   "display_name": "Python 3 (ipykernel)",
   "language": "python",
   "name": "python3"
  },
  "language_info": {
   "codemirror_mode": {
    "name": "ipython",
    "version": 3
   },
   "file_extension": ".py",
   "mimetype": "text/x-python",
   "name": "python",
   "nbconvert_exporter": "python",
   "pygments_lexer": "ipython3",
   "version": "3.11.10"
  }
 },
 "nbformat": 4,
 "nbformat_minor": 5
}
