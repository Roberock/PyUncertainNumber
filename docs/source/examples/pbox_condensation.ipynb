{
 "cells": [
  {
   "cell_type": "code",
   "execution_count": null,
   "id": "481a47e9-87cb-4637-b6a7-73af3e4aefc8",
   "metadata": {},
   "outputs": [],
   "source": [
    "a = pba.normal([1.5, 2], [0.7, 1])"
   ]
  },
  {
   "cell_type": "code",
   "execution_count": null,
   "id": "1a70ffe6-cd11-4003-a51f-10d590545de4",
   "metadata": {},
   "outputs": [],
   "source": [
    "''' detailed procedure '''\n",
    "itvls = a.outer_discretisation(5)\n",
    "app_p = stacking(itvls)\n",
    "fig, ax = plt.subplots()\n",
    "app_p.plot(ax=ax)\n",
    "a.plot(ax=ax, bound_colors=['r', 'r'], fill_color='salmon')"
   ]
  },
  {
   "cell_type": "code",
   "execution_count": null,
   "id": "9e9eac9b-95ba-4b71-870d-3d18502dcc50",
   "metadata": {},
   "outputs": [],
   "source": [
    "# new syntax\n",
    "a.condensation(5)"
   ]
  }
 ],
 "metadata": {
  "kernelspec": {
   "display_name": "Python 3 (ipykernel)",
   "language": "python",
   "name": "python3"
  },
  "language_info": {
   "codemirror_mode": {
    "name": "ipython",
    "version": 3
   },
   "file_extension": ".py",
   "mimetype": "text/x-python",
   "name": "python",
   "nbconvert_exporter": "python",
   "pygments_lexer": "ipython3",
   "version": "3.11.10"
  }
 },
 "nbformat": 4,
 "nbformat_minor": 5
}
